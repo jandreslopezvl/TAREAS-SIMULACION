{
 "cells": [
  {
   "cell_type": "markdown",
   "id": "5a260c54",
   "metadata": {},
   "source": [
    "# PRESENTACION Y ARTICULO EN MARKDOWN\n",
    "\n",
    "## Presentación\n",
    "\n",
    "Mi nombre es _Jose Andres Lopez Valencia_ y curso el **5to semestre** de *ingeniería civil* en el ITESO.\n",
    "\n",
    "Nací en _Guadalajara, Jalisco_ y he vivido toda mi vida aquí. Estudié en el Instituto de Ciencias durante 15 años\n",
    "\n",
    "y entre al ITESO al terminar la preparatoria.\n",
    "\n",
    "### Cosas que me gusta hacer:\n",
    "* Hacer ejercicio\n",
    "* Ver peliculas\n",
    "* Salir con mis amigos\n",
    "* Viajar \n",
    "* Conocer lugares nuevos\n",
    "* Comer\n",
    "\n",
    "### Signo: \n",
    "\n",
    "_Acuario_\n",
    "\n",
    "\n",
    "\n",
    "## Resumen de artículo \n",
    "\n",
    "\n",
    "El _17 de agosto_ en **Reino unido** las estadisticas indicaron que la relación de precio-consumidor rodea el 10.1% desde \n",
    "\n",
    "hace **un año** hasta el mes de Julio, esta es la tasa más alta que ha habido desde el año 1980.\n",
    "\n",
    "\n",
    "Esto es\n",
    "\n"
   ]
  }
 ],
 "metadata": {
  "kernelspec": {
   "display_name": "Python 3 (ipykernel)",
   "language": "python",
   "name": "python3"
  },
  "language_info": {
   "codemirror_mode": {
    "name": "ipython",
    "version": 3
   },
   "file_extension": ".py",
   "mimetype": "text/x-python",
   "name": "python",
   "nbconvert_exporter": "python",
   "pygments_lexer": "ipython3",
   "version": "3.9.12"
  }
 },
 "nbformat": 4,
 "nbformat_minor": 5
}
